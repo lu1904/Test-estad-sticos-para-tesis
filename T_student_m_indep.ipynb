{
 "cells": [
  {
   "cell_type": "markdown",
   "id": "0595d122",
   "metadata": {},
   "source": [
    "# T DE STUDENT PARA MUESTRAS INDEPENDIENTES "
   ]
  },
  {
   "cell_type": "code",
   "execution_count": 1,
   "id": "653fbdb3",
   "metadata": {},
   "outputs": [],
   "source": [
    "import numpy as np\n",
    "from scipy.stats import shapiro, levene, ttest_ind\n"
   ]
  },
  {
   "cell_type": "markdown",
   "id": "a584a6e1",
   "metadata": {},
   "source": [
    "* Estas librerías sirven para simular datos, comprobar normalidad y ejecutar el test, recuerda que si no las tienes instaladas, las tienes que instalar."
   ]
  },
  {
   "cell_type": "code",
   "execution_count": 2,
   "id": "03b7b991",
   "metadata": {},
   "outputs": [],
   "source": [
    "np.random.seed(0)\n",
    "metodo_A = np.random.normal(loc=8, scale=1, size=30)  # notas con método A\n",
    "metodo_B = np.random.normal(loc=7.5, scale=1, size=30)  # notas con método B\n"
   ]
  },
  {
   "cell_type": "markdown",
   "id": "abbe9213",
   "metadata": {},
   "source": [
    "* Supongamos que tenemos 30 estudiantes por grupo y sus notas están en una escala de 10, con este codigo emulamos estas notas, si tu tienes las notas en un excel o en cualquier programa que albergue base de datos, recuerda que aqui debes importarlas "
   ]
  },
  {
   "cell_type": "code",
   "execution_count": 3,
   "id": "e9a7c626",
   "metadata": {},
   "outputs": [
    {
     "name": "stdout",
     "output_type": "stream",
     "text": [
      "Normalidad grupo A: ShapiroResult(statistic=0.9694929718971252, pvalue=0.5253966450691223)\n",
      "Normalidad grupo B: ShapiroResult(statistic=0.9834762215614319, pvalue=0.9084928035736084)\n"
     ]
    }
   ],
   "source": [
    "print(\"Normalidad grupo A:\", shapiro(metodo_A))\n",
    "print(\"Normalidad grupo B:\", shapiro(metodo_B))\n"
   ]
  },
  {
   "cell_type": "markdown",
   "id": "7e0db279",
   "metadata": {},
   "source": [
    "* Aplicamos la prueba de normalidad, Si el valor p > 0.05, los datos sí son normales (se puede usar el test t). Como el p valor es mayr a 0.05, aplicamos esta prueba"
   ]
  },
  {
   "cell_type": "code",
   "execution_count": 4,
   "id": "8d45079e",
   "metadata": {},
   "outputs": [
    {
     "name": "stdout",
     "output_type": "stream",
     "text": [
      "Levene test: LeveneResult(statistic=0.6616735728878035, pvalue=0.4192965520132603)\n"
     ]
    }
   ],
   "source": [
    "print(\"Levene test:\", levene(metodo_A, metodo_B))\n"
   ]
  },
  {
   "cell_type": "markdown",
   "id": "21b9ccdb",
   "metadata": {},
   "source": [
    "* Esta prueba es opcional, pero le otorgará mayor robustez a tu t student, Si p > 0.05, las varianzas son iguales. Esto ayuda a elegir el tipo de t-test. Al ser el p valor mayor a 0.05, procedemos con el t de student para muestras independientes"
   ]
  },
  {
   "cell_type": "code",
   "execution_count": 5,
   "id": "4ec8d7f2",
   "metadata": {},
   "outputs": [
    {
     "name": "stdout",
     "output_type": "stream",
     "text": [
      "T-Statistic: 4.718380879445553\n",
      "P-valor: 1.5419378300001784e-05\n"
     ]
    }
   ],
   "source": [
    "t_stat, p_valor = ttest_ind(metodo_A, metodo_B, equal_var=True)\n",
    "print(\"T-Statistic:\", t_stat)\n",
    "print(\"P-valor:\", p_valor)\n"
   ]
  },
  {
   "cell_type": "markdown",
   "id": "617df768",
   "metadata": {},
   "source": [
    "* Finalmente aplicamos la prueba. Compara si las medias de los dos grupos son significativamente diferentes. \n",
    "•\tSi el p-valor < 0.05, hay diferencia significativa.\n",
    "•\tSi el p-valor > 0.05, no hay diferencia significativa.\n",
    "* Ejemplo: p = 0.02 → Sí hay diferencia, un método es mejor que otro"
   ]
  },
  {
   "cell_type": "markdown",
   "id": "81e4b964",
   "metadata": {},
   "source": [
    "* En este caso, el p valor es menor al nivel de signiifcancia (0.05), por lo que existe una diferencia significativa. \n",
    "* Puedes concluir que el método A tiene mejor efecto sobre el rendimiento que el B, siempre y cuando la media del primero cumpla esta condición. "
   ]
  }
 ],
 "metadata": {
  "kernelspec": {
   "display_name": "Python 3 (ipykernel)",
   "language": "python",
   "name": "python3"
  },
  "language_info": {
   "codemirror_mode": {
    "name": "ipython",
    "version": 3
   },
   "file_extension": ".py",
   "mimetype": "text/x-python",
   "name": "python",
   "nbconvert_exporter": "python",
   "pygments_lexer": "ipython3",
   "version": "3.11.5"
  }
 },
 "nbformat": 4,
 "nbformat_minor": 5
}
